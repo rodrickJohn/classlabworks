{
 "cells": [
  {
   "cell_type": "code",
   "execution_count": 2,
   "metadata": {},
   "outputs": [],
   "source": [
    "import numpy as np"
   ]
  },
  {
   "cell_type": "markdown",
   "metadata": {},
   "source": [
    "<h3> Question 1 </h3>"
   ]
  },
  {
   "cell_type": "code",
   "execution_count": 14,
   "metadata": {},
   "outputs": [
    {
     "name": "stdout",
     "output_type": "stream",
     "text": [
      "[0.  0.1 0.2 0.3 0.4 0.5 0.6 0.7 0.8 0.9]\n",
      "\n",
      "\n",
      "[0 1 0 1 0 1 0 1 0 1]\n",
      "\n",
      "\n",
      "[0.52759085 0.04756659 0.31059636 0.13947277 0.51600296 0.78855524\n",
      " 0.48085316 0.22694605 0.22436237 0.43157891]\n",
      "0.7885552403963771\n",
      "[0.52759085 0.04756659 0.31059636 0.13947277 0.51600296 0.\n",
      " 0.48085316 0.22694605 0.22436237 0.43157891]\n"
     ]
    }
   ],
   "source": [
    "# (a)\n",
    "\n",
    "arr1= np.linspace(0,1, num=10, endpoint=False)  #revisit this\n",
    "print (arr1)\n",
    "print(\"\\n\")\n",
    "\n",
    "# (b)\n",
    "arr1 = np.zeros(10, dtype=int)\n",
    "arr1[[i for i in range(len(arr)) if i%2!=0]]=1\n",
    "print(arr1)\n",
    "print(\"\\n\")\n",
    "\n",
    "# (c)\n",
    "arr1 = np.random.random(10)\n",
    "print(arr1) # displays arr1\n",
    "print(arr1[np.argmax(arr1)]) # displays maximum value in arr1\n",
    "arr1[np.argmax(arr1)]=0\n",
    "print(arr1)"
   ]
  },
  {
   "cell_type": "markdown",
   "metadata": {},
   "source": [
    "<h3>Question 2</h3>"
   ]
  },
  {
   "cell_type": "code",
   "execution_count": 30,
   "metadata": {},
   "outputs": [
    {
     "name": "stdout",
     "output_type": "stream",
     "text": [
      "There are  5975  elements in even_nums\n",
      "1494\n",
      "[1.41421356 2.23606798 1.34164079 2.64575131 1.22474487 2.\n",
      " 1.84390889]\n"
     ]
    }
   ],
   "source": [
    "# (a)\n",
    "even_nums = np.arange(30, 6005)\n",
    "\n",
    "# (b)\n",
    "print(\"There are \",even_nums.size,\" elements in even_nums\")\n",
    "\n",
    "# (c)\n",
    "even_nums_desc = even_nums[::-1]   \n",
    "even_nums_desc[[i for i in range (10)]]\n",
    "\n",
    "# (d)\n",
    "indices = even_nums%4==0   \n",
    "even_nums[indices]\n",
    "print(even_nums[indices].size)\n",
    "\n",
    "# (e)\n",
    "arr1 = np.array([2,5,1.8,7,1.5,4,3.4])\n",
    "print(np.sqrt(arr1))\n"
   ]
  },
  {
   "cell_type": "markdown",
   "metadata": {},
   "source": [
    "<h3>Question 3</h3>"
   ]
  },
  {
   "cell_type": "code",
   "execution_count": 7,
   "metadata": {
    "scrolled": true
   },
   "outputs": [
    {
     "name": "stdout",
     "output_type": "stream",
     "text": [
      "578.0000000000001\n",
      "[[-0.60207612  0.34602076  0.12975779  0.07612457]\n",
      " [ 0.30795848  0.00692042 -0.24740484  0.04152249]\n",
      " [ 0.22491349 -0.15224913 -0.05709343  0.08650519]\n",
      " [ 0.03806228 -0.01038062  0.12110727 -0.06228374]]\n",
      "\n",
      "\n",
      "[[28 32 10 45]\n",
      " [32 34  9 51]\n",
      " [44 48 26 52]\n",
      " [ 1 43  7 88]]\n",
      "\n",
      "\n",
      "[[1 3 6 6]\n",
      " [3 5 4 7]\n",
      " [2 0 3 8]\n",
      " [4 1 7 2]]\n",
      "\n",
      "\n",
      "[[3 5 0 7]\n",
      " [4 1 9 2]]\n",
      "\n",
      "\n",
      "[2 4 9]\n",
      "\n",
      "\n",
      "[1 5 4 2]\n",
      "\n",
      "\n",
      "[[5 0]\n",
      " [0 4]]\n",
      "\n",
      "\n",
      "[[100   2   1 100]\n",
      " [ -2   0  -3   5]\n",
      " [ -1   3   0   7]\n",
      " [100   4   3 100]]\n"
     ]
    }
   ],
   "source": [
    "# (a)\n",
    "A = np.array([[1,3,2,6],[3,5,0,7],[2,0,4,8],[4,1,9,2]])\n",
    "detA = np.linalg.det(A)\n",
    "print(detA)\n",
    "invA = np.linalg.inv(A)\n",
    "print(invA)\n",
    "print(\"\\n\")\n",
    "\n",
    "# (b)\n",
    "B = np.array([[0,2,1,4],[-2,0,-3,5],[-1,3,0,7],[6,4,3,2]])\n",
    "print(A @ B)\n",
    "print(\"\\n\")\n",
    "\n",
    "# (c)\n",
    "C = np.copy(A)\n",
    "C[:,2] = np.max(B, axis=0)\n",
    "print(C)\n",
    "print(\"\\n\")\n",
    "\n",
    "# (d)\n",
    "print(A[[1,3],:]) # for row 2 and 4 using combined indexing\n",
    "print(\"\\n\")\n",
    "\n",
    "# (e)\n",
    "print(A[[0,2,3],2]) # for row 1,2 and 4 using combined indexing\n",
    "print(\"\\n\")\n",
    "\n",
    "#(f)\n",
    "print(np.array([A[i,i] for i in range(len(A))]))\n",
    "print(\"\\n\")\n",
    "\n",
    "# (g)\n",
    "print(A[1:3,1:3])\n",
    "print(\"\\n\")\n",
    "\n",
    "# (h)\n",
    "D = np.copy(B)\n",
    "D[[0,3,0,3],[0,0,3,3]]=100  #fancy indexing takes lists or numpy arrays as indicies\n",
    "print(D)"
   ]
  },
  {
   "cell_type": "markdown",
   "metadata": {},
   "source": [
    "<h3>Question 4</h3>"
   ]
  },
  {
   "cell_type": "code",
   "execution_count": 15,
   "metadata": {},
   "outputs": [
    {
     "name": "stdout",
     "output_type": "stream",
     "text": [
      "[[0.58186736 0.3280659  0.60401897 0.49140599 0.43658544 0.02644702]\n",
      " [0.7144255  0.78870985 0.90485795 0.909875   0.4726913  0.54984036]\n",
      " [0.11684537 0.81819224 0.58283029 0.62517182 0.93065815 0.26232252]\n",
      " [0.54651684 0.46548349 0.20966691 0.18214816 0.66709749 0.97618946]\n",
      " [0.73072119 0.68692726 0.93887116 0.80699599 0.28985018 0.97725044]]\n",
      "\n",
      "\n",
      "0.5874176537154769\n",
      "\n",
      "\n",
      "[0.02644702 0.4726913  0.11684537 0.18214816 0.28985018]\n",
      "[0.73072119 0.81819224 0.93887116 0.909875   0.93065815 0.97725044]\n",
      "\n",
      "\n",
      "[[0 0 0 0 0 0]\n",
      " [0 0 0 0 0 0]\n",
      " [0 0 0 0 0 0]\n",
      " [0 0 0 0 0 0]\n",
      " [0 0 0 0 0 0]]\n",
      "int16\n"
     ]
    }
   ],
   "source": [
    "# (a)\n",
    "arr1=np.random.rand(5,6) # revisit this\n",
    "print(arr1)\n",
    "print(\"\\n\")\n",
    "\n",
    "# (b)\n",
    "print(np.mean(arr1))\n",
    "print(\"\\n\")\n",
    "\n",
    "# (c)\n",
    "print(np.min(arr1, axis=1))  # minimum value along each row\n",
    "print(np.max(arr1, axis=0))  #maximum value along each column\n",
    "print(\"\\n\")\n",
    "\n",
    "# (d)\n",
    "arr2=10*arr1.astype(np.int16)\n",
    "print(arr2)\n",
    "print(arr2.dtype)"
   ]
  },
  {
   "cell_type": "markdown",
   "metadata": {},
   "source": [
    "<h3>Question 5</h3>"
   ]
  },
  {
   "cell_type": "code",
   "execution_count": 11,
   "metadata": {},
   "outputs": [
    {
     "name": "stdout",
     "output_type": "stream",
     "text": [
      "[[ 1  2  3  4  5  6]\n",
      " [11 12 13 14 15 16]\n",
      " [31 32 33 34 35 36]\n",
      " [41 42 43 44 45 46]\n",
      " [51 52 53 54 55 56]\n",
      " [61 62 63 64 65 66]]\n",
      "\n",
      "\n",
      "[ 2 12 32 42 52 62]\n",
      "\n",
      "\n",
      "[[ 1  4]\n",
      " [31 34]\n",
      " [51 54]]\n",
      "\n",
      "\n",
      "[13 14 15]\n",
      "\n",
      "\n",
      "[[45 46]\n",
      " [55 56]]\n"
     ]
    }
   ],
   "source": [
    "# (a)\n",
    "arr1 = np.array([[1,2,3,4,5,6],[11,12,13,14,15,16],[31,32,33,34,35,36],[41,42,43,44,45,46],[51,52,53,54,55,56],[61,62,63,64,65,66]])\n",
    "print(arr1)\n",
    "print(\"\\n\")\n",
    "\n",
    "# (b)\n",
    "print(arr1[:,1])\n",
    "print(\"\\n\")\n",
    "\n",
    "# (c)\n",
    "print(arr1[0::2,0::3])\n",
    "print(\"\\n\")\n",
    "\n",
    "# (d)\n",
    "print(arr1[1,2:5])\n",
    "print(\"\\n\")\n",
    "\n",
    "# (e)\n",
    "print(arr1[3:5,4:6])"
   ]
  },
  {
   "cell_type": "markdown",
   "metadata": {},
   "source": [
    "<h3>Question 6</h3>"
   ]
  },
  {
   "cell_type": "code",
   "execution_count": 74,
   "metadata": {},
   "outputs": [
    {
     "name": "stdout",
     "output_type": "stream",
     "text": [
      "[[ 37  40  50]\n",
      " [  7  85  14]\n",
      " [ 81  80  79]\n",
      " [  7  67  44]\n",
      " [ 43  51  82]\n",
      " [ 10  45  30]\n",
      " [  7  82  58]\n",
      " [ 24   4  40]\n",
      " [ 66  23  31]\n",
      " [  2   4  56]\n",
      " [ 99  97  93]\n",
      " [ 89  21  24]\n",
      " [ 93  53  89]\n",
      " [ 31  36  77]\n",
      " [ 39   3  45]\n",
      " [ 33  47  15]\n",
      " [ 63  95  37]\n",
      " [ 64  99  97]\n",
      " [ 65  81  66]\n",
      " [ 86  88  77]\n",
      " [ 11  63  78]\n",
      " [ 67  73  91]\n",
      " [ 61  54  88]\n",
      " [  1  38  31]\n",
      " [ 39  17  19]\n",
      " [ 13  16   9]\n",
      " [ 33  55  47]\n",
      " [ 86  67  58]\n",
      " [ 61  47  71]\n",
      " [ 87  10  13]\n",
      " [ 29  41  67]\n",
      " [ 37  45  19]\n",
      " [ 28  52  37]\n",
      " [  7  84  38]\n",
      " [ 30  50  66]\n",
      " [ 30  82  24]\n",
      " [ 59  44  97]\n",
      " [ 14  11  40]\n",
      " [  3  32  89]\n",
      " [ 38  24  85]\n",
      " [ 11  67  25]\n",
      " [ 12  29  55]\n",
      " [ 26  42  49]\n",
      " [  0  64  95]\n",
      " [ 59  76  19]\n",
      " [ 64  72  69]\n",
      " [ 52  30   7]\n",
      " [  5  81  25]\n",
      " [ 94  63   2]\n",
      " [ 78  59  59]\n",
      " [ 17  21  54]\n",
      " [ 82  51  12]\n",
      " [ 34  16   3]\n",
      " [ 85  66  85]\n",
      " [ 65  76  56]\n",
      " [  9  39  28]\n",
      " [  5  79  20]\n",
      " [ 93  19  15]\n",
      " [ 93  44  83]\n",
      " [ 25  16  13]\n",
      " [ 37  40  61]\n",
      " [ 97  55  22]\n",
      " [ 68  48  90]\n",
      " [ 37  51  39]\n",
      " [ 22  54  71]\n",
      " [ 22   3  69]\n",
      " [ 34   2  13]\n",
      " [ 14  69  31]\n",
      " [ 91  14   2]\n",
      " [100  71  72]\n",
      " [ 20  93  55]\n",
      " [ 74  59  61]\n",
      " [ 54   2  34]\n",
      " [  1  22  28]\n",
      " [ 76  70  55]\n",
      " [ 52   2  76]\n",
      " [ 68  68   8]\n",
      " [  3  82  56]\n",
      " [ 67  64  11]\n",
      " [ 34  78  65]\n",
      " [ 58  89  85]\n",
      " [ 24  10  47]\n",
      " [ 28  14  69]\n",
      " [ 34  90  50]\n",
      " [ 95  16  16]\n",
      " [  3  54  59]\n",
      " [  4  37  57]\n",
      " [ 76  10  44]\n",
      " [ 18  70  95]\n",
      " [ 45   3  47]\n",
      " [ 34  44  38]\n",
      " [ 41   2   4]\n",
      " [ 19  20  19]\n",
      " [ 84  93  10]\n",
      " [ 10  90  18]\n",
      " [ 52  45  18]\n",
      " [ 63  56  79]\n",
      " [ 40   2  91]\n",
      " [  2  79  73]\n",
      " [ 72  39  16]]\n",
      "\n",
      "\n",
      "[  1   2   3   4   5   6   7   8   9  10  11  12  13  14  15  16  17  18\n",
      "  19  20  21  22  23  24  25  26  27  28  29  30  31  32  33  34  35  36\n",
      "  37  38  39  40  41  42  43  44  45  46  47  48  49  50  51  52  53  54\n",
      "  55  56  57  58  59  60  61  62  63  64  65  66  67  68  69  70  71  72\n",
      "  73  74  75  76  77  78  79  80  81  82  83  84  85  86  87  88  89  90\n",
      "  91  92  93  94  95  96  97  98  99 100]\n",
      "\n",
      "\n",
      "[[ 1 37 40 50]\n",
      " [ 2  7 85 14]\n",
      " [ 3 81 80 79]\n",
      " [ 4  7 67 44]]\n",
      "\n",
      "\n",
      "(100, 4)\n",
      "\n",
      "\n",
      "        Test 1 Test 2 Test 3\n",
      "Min      0.00  2.00  2.00\n",
      "Max      100.00 99.00 97.00\n",
      "Average  43.62 48.26 47.99\n",
      "Std      29.95 28.03 27.83\n"
     ]
    }
   ],
   "source": [
    "# (a)\n",
    "scores=np.random.randint(101, size=(100, 3), dtype=np.int8)\n",
    "print(scores)\n",
    "print(\"\\n\")\n",
    "\n",
    "# (b)\n",
    "sn = np.arange(1,101, dtype=np.int8)\n",
    "print(sn)\n",
    "print(\"\\n\")\n",
    "\n",
    "# (c)\n",
    "sn = sn[np.newaxis,:]   # increase the dimension of the sn array from 1D to 2D\n",
    "snscores = np.hstack((sn.T,scores))\n",
    "print(snscores[0:4,0:4])\n",
    "\n",
    "# (d)\n",
    "np.savetxt('scores.csv', snscores, fmt='%i')\n",
    "print(\"\\n\")\n",
    "\n",
    "# (e)\n",
    "marks = np.genfromtxt('scores.csv', delimiter=' ',dtype=np.int8)\n",
    "print(marks.shape)\n",
    "print(\"\\n\")\n",
    "\n",
    "# (f)\n",
    "print(\"{:<7}\".format('  '), end=' ')\n",
    "print(\"{}\".format('Test 1'), end=' ')\n",
    "print(\"{}\".format('Test 2'), end=' ')\n",
    "print(\"{}\".format('Test 3'))\n",
    "\n",
    "print(\"Min {:<3}\".format(''), \"{:5.2f}\".format(np.min((marks), axis=0)[1]), \"{:5.2f}\".format(np.min((marks), axis=0)[2]), \"{:5.2f}\".format(np.min((marks), axis=0)[3]))\n",
    "print(\"Max {:<4}\".format(''), \"{:5.2f}\".format(np.max((marks), axis=0)[1]), \"{:5.2f}\".format(np.max((marks), axis=0)[2]),\"{:5.2f}\".format(np.max((marks), axis=0)[3]))\n",
    "print(\"Average {:<0}\".format(''), \"{:5.2f}\".format(np.mean((marks), axis=0)[1]),\"{:5.2f}\".format(np.mean((marks), axis=0)[2]),\"{:5.2f}\".format(np.mean((marks), axis=0)[3]))\n",
    "print(\"Std {:<4}\".format(''),\"{:5.2f}\".format(np.std((marks), axis=0)[1]),\"{:5.2f}\".format(np.std((marks), axis=0)[2]),\"{:5.2f}\".format(np.std((marks), axis=0)[3]))"
   ]
  },
  {
   "cell_type": "markdown",
   "metadata": {},
   "source": [
    "<h3>Question 7</h3>"
   ]
  },
  {
   "cell_type": "code",
   "execution_count": null,
   "metadata": {},
   "outputs": [],
   "source": []
  }
 ],
 "metadata": {
  "kernelspec": {
   "display_name": "Python 3",
   "language": "python",
   "name": "python3"
  },
  "language_info": {
   "codemirror_mode": {
    "name": "ipython",
    "version": 3
   },
   "file_extension": ".py",
   "mimetype": "text/x-python",
   "name": "python",
   "nbconvert_exporter": "python",
   "pygments_lexer": "ipython3",
   "version": "3.7.0"
  }
 },
 "nbformat": 4,
 "nbformat_minor": 2
}
