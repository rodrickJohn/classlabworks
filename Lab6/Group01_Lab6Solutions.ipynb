{
 "cells": [
  {
   "cell_type": "code",
   "execution_count": 1,
   "metadata": {},
   "outputs": [],
   "source": [
    "import numpy as np"
   ]
  },
  {
   "cell_type": "markdown",
   "metadata": {},
   "source": [
    "<h3> Question 1 </h3>"
   ]
  },
  {
   "cell_type": "code",
   "execution_count": 2,
   "metadata": {},
   "outputs": [
    {
     "name": "stdout",
     "output_type": "stream",
     "text": [
      "[0.  0.1 0.2 0.3 0.4 0.5 0.6 0.7 0.8 0.9]\n",
      "\n",
      "\n",
      "[0 1 0 1 0 1 0 1 0 1]\n",
      "\n",
      "\n",
      "[0.86087681 0.71913968 0.53600219 0.95567475 0.80726935 0.2830399\n",
      " 0.40662098 0.16046385 0.33651301 0.51448791]\n",
      "0.9556747456275209\n",
      "[0.86087681 0.71913968 0.53600219 0.         0.80726935 0.2830399\n",
      " 0.40662098 0.16046385 0.33651301 0.51448791]\n"
     ]
    }
   ],
   "source": [
    "# (a)\n",
    "\n",
    "arr1= np.linspace(0,1, num=10, endpoint=False)  #revisit this\n",
    "print (arr1)\n",
    "print(\"\\n\")\n",
    "\n",
    "# (b)\n",
    "arr1 = np.zeros(10, dtype=int)\n",
    "arr1[[i for i in range(len(arr1)) if i%2!=0]]=1\n",
    "print(arr1)\n",
    "print(\"\\n\")\n",
    "\n",
    "# (c)\n",
    "arr1 = np.random.random(10)\n",
    "print(arr1) # displays arr1\n",
    "print(arr1[np.argmax(arr1)]) # displays maximum value in arr1\n",
    "arr1[np.argmax(arr1)]=0\n",
    "print(arr1)"
   ]
  },
  {
   "cell_type": "markdown",
   "metadata": {},
   "source": [
    "<h3>Question 2</h3>"
   ]
  },
  {
   "cell_type": "code",
   "execution_count": 3,
   "metadata": {},
   "outputs": [
    {
     "name": "stdout",
     "output_type": "stream",
     "text": [
      "There are  5975  elements in even_nums\n",
      "[6004 6003 6002 6001 6000 5999 5998 5997 5996 5995]\n",
      "1494\n",
      "[1.41421356 2.23606798 1.34164079 2.64575131 1.22474487 2.\n",
      " 1.84390889]\n"
     ]
    }
   ],
   "source": [
    "# (a)\n",
    "even_nums = np.arange(30, 6005)\n",
    "\n",
    "# (b)\n",
    "print(\"There are \",even_nums.size,\" elements in even_nums\")\n",
    "\n",
    "# (c)\n",
    "even_nums_desc = even_nums[::-1]   \n",
    "print(even_nums_desc[[i for i in range (10)]])\n",
    "\n",
    "# (d)\n",
    "indices = even_nums%4==0   \n",
    "even_nums[indices]\n",
    "print(even_nums[indices].size)\n",
    "\n",
    "# (e)\n",
    "arr1 = np.array([2,5,1.8,7,1.5,4,3.4])\n",
    "print(np.sqrt(arr1))\n"
   ]
  },
  {
   "cell_type": "markdown",
   "metadata": {},
   "source": [
    "<h3>Question 3</h3>"
   ]
  },
  {
   "cell_type": "code",
   "execution_count": 4,
   "metadata": {
    "scrolled": true
   },
   "outputs": [
    {
     "name": "stdout",
     "output_type": "stream",
     "text": [
      "578.0000000000001\n",
      "[[-0.60207612  0.34602076  0.12975779  0.07612457]\n",
      " [ 0.30795848  0.00692042 -0.24740484  0.04152249]\n",
      " [ 0.22491349 -0.15224913 -0.05709343  0.08650519]\n",
      " [ 0.03806228 -0.01038062  0.12110727 -0.06228374]]\n",
      "\n",
      "\n",
      "[[28 32 10 45]\n",
      " [32 34  9 51]\n",
      " [44 48 26 52]\n",
      " [ 1 43  7 88]]\n",
      "\n",
      "\n",
      "[[1 3 6 6]\n",
      " [3 5 4 7]\n",
      " [2 0 3 8]\n",
      " [4 1 7 2]]\n",
      "\n",
      "\n",
      "[[3 5 0 7]\n",
      " [4 1 9 2]]\n",
      "\n",
      "\n",
      "[2 4 9]\n",
      "\n",
      "\n",
      "[1 5 4 2]\n",
      "\n",
      "\n",
      "[[5 0]\n",
      " [0 4]]\n",
      "\n",
      "\n",
      "[[100   2   1 100]\n",
      " [ -2   0  -3   5]\n",
      " [ -1   3   0   7]\n",
      " [100   4   3 100]]\n"
     ]
    }
   ],
   "source": [
    "# (a)\n",
    "A = np.array([[1,3,2,6],[3,5,0,7],[2,0,4,8],[4,1,9,2]])\n",
    "detA = np.linalg.det(A)\n",
    "print(detA)\n",
    "invA = np.linalg.inv(A)\n",
    "print(invA)\n",
    "print(\"\\n\")\n",
    "\n",
    "# (b)\n",
    "B = np.array([[0,2,1,4],[-2,0,-3,5],[-1,3,0,7],[6,4,3,2]])\n",
    "print(A @ B)\n",
    "print(\"\\n\")\n",
    "\n",
    "# (c)\n",
    "C = np.copy(A)\n",
    "C[:,2] = np.max(B, axis=0)\n",
    "print(C)\n",
    "print(\"\\n\")\n",
    "\n",
    "# (d)\n",
    "print(A[[1,3],:]) # for row 2 and 4 using combined indexing\n",
    "print(\"\\n\")\n",
    "\n",
    "# (e)\n",
    "print(A[[0,2,3],2]) # for row 1,2 and 4 using combined indexing\n",
    "print(\"\\n\")\n",
    "\n",
    "#(f)\n",
    "print(np.array([A[i,i] for i in range(len(A))]))\n",
    "print(\"\\n\")\n",
    "\n",
    "# (g)\n",
    "print(A[1:3,1:3])\n",
    "print(\"\\n\")\n",
    "\n",
    "# (h)\n",
    "D = np.copy(B)\n",
    "D[[0,3,0,3],[0,0,3,3]]=100  #fancy indexing takes lists or numpy arrays as indicies\n",
    "print(D)"
   ]
  },
  {
   "cell_type": "markdown",
   "metadata": {},
   "source": [
    "<h3>Question 4</h3>"
   ]
  },
  {
   "cell_type": "code",
   "execution_count": 5,
   "metadata": {},
   "outputs": [
    {
     "name": "stdout",
     "output_type": "stream",
     "text": [
      "[[0.188999   0.3787076  0.61524232 0.77203893 0.43491712 0.88684884]\n",
      " [0.63660532 0.42324745 0.60429792 0.16450709 0.56957049 0.68367386]\n",
      " [0.01828232 0.98839521 0.69871807 0.50737648 0.90711423 0.40029801]\n",
      " [0.66653885 0.64529727 0.7122245  0.23992014 0.91994598 0.8627459 ]\n",
      " [0.30179389 0.62988942 0.99773928 0.67111486 0.94835786 0.13794091]]\n",
      "\n",
      "\n",
      "0.5870783034053483\n",
      "\n",
      "\n",
      "[0.188999   0.16450709 0.01828232 0.23992014 0.13794091]\n",
      "[0.66653885 0.98839521 0.99773928 0.77203893 0.94835786 0.88684884]\n",
      "\n",
      "\n",
      "[[0 0 0 0 0 0]\n",
      " [0 0 0 0 0 0]\n",
      " [0 0 0 0 0 0]\n",
      " [0 0 0 0 0 0]\n",
      " [0 0 0 0 0 0]]\n",
      "int16\n"
     ]
    }
   ],
   "source": [
    "# (a)\n",
    "arr1=np.random.rand(5,6) # revisit this\n",
    "print(arr1)\n",
    "print(\"\\n\")\n",
    "\n",
    "# (b)\n",
    "print(np.mean(arr1))\n",
    "print(\"\\n\")\n",
    "\n",
    "# (c)\n",
    "print(np.min(arr1, axis=1))  # minimum value along each row\n",
    "print(np.max(arr1, axis=0))  #maximum value along each column\n",
    "print(\"\\n\")\n",
    "\n",
    "# (d)\n",
    "arr2=10*arr1.astype(np.int16)\n",
    "print(arr2)\n",
    "print(arr2.dtype)"
   ]
  },
  {
   "cell_type": "markdown",
   "metadata": {},
   "source": [
    "<h3>Question 5</h3>"
   ]
  },
  {
   "cell_type": "code",
   "execution_count": 6,
   "metadata": {},
   "outputs": [
    {
     "name": "stdout",
     "output_type": "stream",
     "text": [
      "[[ 1  2  3  4  5  6]\n",
      " [11 12 13 14 15 16]\n",
      " [31 32 33 34 35 36]\n",
      " [41 42 43 44 45 46]\n",
      " [51 52 53 54 55 56]\n",
      " [61 62 63 64 65 66]]\n",
      "\n",
      "\n",
      "[ 2 12 32 42 52 62]\n",
      "\n",
      "\n",
      "[[ 1  4]\n",
      " [31 34]\n",
      " [51 54]]\n",
      "\n",
      "\n",
      "[13 14 15]\n",
      "\n",
      "\n",
      "[[45 46]\n",
      " [55 56]]\n"
     ]
    }
   ],
   "source": [
    "# (a)\n",
    "arr1 = np.array([[1,2,3,4,5,6],[11,12,13,14,15,16],[31,32,33,34,35,36],[41,42,43,44,45,46],[51,52,53,54,55,56],[61,62,63,64,65,66]])\n",
    "print(arr1)\n",
    "print(\"\\n\")\n",
    "\n",
    "# (b)\n",
    "print(arr1[:,1])\n",
    "print(\"\\n\")\n",
    "\n",
    "# (c)\n",
    "print(arr1[0::2,0::3])\n",
    "print(\"\\n\")\n",
    "\n",
    "# (d)\n",
    "print(arr1[1,2:5])\n",
    "print(\"\\n\")\n",
    "\n",
    "# (e)\n",
    "print(arr1[3:5,4:6])"
   ]
  },
  {
   "cell_type": "markdown",
   "metadata": {},
   "source": [
    "<h3>Question 6</h3>"
   ]
  },
  {
   "cell_type": "code",
   "execution_count": 7,
   "metadata": {},
   "outputs": [
    {
     "name": "stdout",
     "output_type": "stream",
     "text": [
      "[[ 46   3  31]\n",
      " [ 73  43  15]\n",
      " [ 64  63  82]\n",
      " [ 68  37 100]\n",
      " [ 91  37  10]\n",
      " [ 42  78  55]\n",
      " [ 45   8  97]\n",
      " [ 85  19  87]\n",
      " [ 41  81  12]\n",
      " [ 67  77  19]\n",
      " [ 85  12  31]\n",
      " [ 73  95  25]\n",
      " [ 58  34  74]\n",
      " [ 30  63  12]\n",
      " [ 92  28  30]\n",
      " [ 75  91  88]\n",
      " [ 21  84  63]\n",
      " [100  47  27]\n",
      " [ 35  36  66]\n",
      " [ 44  82  57]\n",
      " [ 17  57  41]\n",
      " [ 72  43  55]\n",
      " [ 30  44  47]\n",
      " [ 20  34  42]\n",
      " [ 90  74  47]\n",
      " [ 34   5  14]\n",
      " [ 31   8  52]\n",
      " [ 43  18  45]\n",
      " [ 74  51  38]\n",
      " [ 92  71  36]\n",
      " [  9  79  69]\n",
      " [ 55   2  98]\n",
      " [ 71  54  17]\n",
      " [ 82  91   1]\n",
      " [ 83  74  38]\n",
      " [ 85  53  31]\n",
      " [ 26  78  66]\n",
      " [ 76  25  46]\n",
      " [ 68  66  99]\n",
      " [ 91  48  58]\n",
      " [ 60   3  23]\n",
      " [ 84  36  43]\n",
      " [ 29  10  38]\n",
      " [ 18  17  74]\n",
      " [ 11  56  53]\n",
      " [ 21  43  91]\n",
      " [ 95  26  33]\n",
      " [ 11  12  12]\n",
      " [  0  79  39]\n",
      " [ 82  43  20]\n",
      " [ 68  28  70]\n",
      " [ 63  60  29]\n",
      " [ 38  64  73]\n",
      " [ 14   1  14]\n",
      " [ 18  62  90]\n",
      " [ 46  60  81]\n",
      " [ 32  23  53]\n",
      " [ 12  44  65]\n",
      " [ 47  27  78]\n",
      " [ 79  46  69]\n",
      " [ 72  66  58]\n",
      " [ 71  78  80]\n",
      " [  6  32  53]\n",
      " [ 93   2  16]\n",
      " [ 74   7  25]\n",
      " [ 75  21  35]\n",
      " [ 39  50  26]\n",
      " [ 82  24  56]\n",
      " [ 64  45   9]\n",
      " [ 57   8  73]\n",
      " [ 42  42  57]\n",
      " [ 86   2  47]\n",
      " [ 11  58  92]\n",
      " [ 82  51  11]\n",
      " [ 11  32  32]\n",
      " [ 50   7  53]\n",
      " [ 82  76  85]\n",
      " [ 12   0  89]\n",
      " [  6  21  95]\n",
      " [ 41  54  77]\n",
      " [ 91  93  36]\n",
      " [ 24  73  82]\n",
      " [ 47  96  13]\n",
      " [ 88  49  73]\n",
      " [ 54  78  90]\n",
      " [ 45  61  29]\n",
      " [ 75   0  48]\n",
      " [ 73  37  97]\n",
      " [ 45   1  32]\n",
      " [ 94  21  51]\n",
      " [ 78  25   6]\n",
      " [ 20   9  55]\n",
      " [ 18  41  87]\n",
      " [ 68  93  75]\n",
      " [ 47  20  85]\n",
      " [  5  80  90]\n",
      " [ 10  32   0]\n",
      " [ 77   5  95]\n",
      " [ 63  55  57]\n",
      " [ 37  43  54]]\n",
      "\n",
      "\n",
      "[  1   2   3   4   5   6   7   8   9  10  11  12  13  14  15  16  17  18\n",
      "  19  20  21  22  23  24  25  26  27  28  29  30  31  32  33  34  35  36\n",
      "  37  38  39  40  41  42  43  44  45  46  47  48  49  50  51  52  53  54\n",
      "  55  56  57  58  59  60  61  62  63  64  65  66  67  68  69  70  71  72\n",
      "  73  74  75  76  77  78  79  80  81  82  83  84  85  86  87  88  89  90\n",
      "  91  92  93  94  95  96  97  98  99 100]\n",
      "\n",
      "\n",
      "[[  1  46   3  31]\n",
      " [  2  73  43  15]\n",
      " [  3  64  63  82]\n",
      " [  4  68  37 100]]\n",
      "\n",
      "\n",
      "(100, 4)\n",
      "\n",
      "\n",
      "        Test 1 Test 2 Test 3\n",
      "Min      0.00  0.00  0.00\n",
      "Max      100.00 96.00 100.00\n",
      "Average  53.27 43.21 51.93\n",
      "Std      27.83 27.42 27.58\n"
     ]
    }
   ],
   "source": [
    "# (a)\n",
    "scores=np.random.randint(101, size=(100, 3), dtype=np.int8)\n",
    "print(scores)\n",
    "print(\"\\n\")\n",
    "\n",
    "# (b)\n",
    "sn = np.arange(1,101, dtype=np.int8)\n",
    "print(sn)\n",
    "print(\"\\n\")\n",
    "\n",
    "# (c)\n",
    "sn = sn[np.newaxis,:]   # increase the dimension of the sn array from 1D to 2D\n",
    "snscores = np.hstack((sn.T,scores))\n",
    "print(snscores[0:4,0:4])\n",
    "\n",
    "# (d)\n",
    "np.savetxt('scores.csv', snscores, fmt='%i')\n",
    "print(\"\\n\")\n",
    "\n",
    "# (e)\n",
    "marks = np.genfromtxt('scores.csv', delimiter=' ',dtype=np.int8)\n",
    "print(marks.shape)\n",
    "print(\"\\n\")\n",
    "\n",
    "# (f)\n",
    "print(\"{:<7}\".format('  '), end=' ')\n",
    "print(\"{}\".format('Test 1'), end=' ')\n",
    "print(\"{}\".format('Test 2'), end=' ')\n",
    "print(\"{}\".format('Test 3'))\n",
    "\n",
    "print(\"Min {:<3}\".format(''), \"{:5.2f}\".format(np.min((marks), axis=0)[1]), \"{:5.2f}\".format(np.min((marks), axis=0)[2]), \"{:5.2f}\".format(np.min((marks), axis=0)[3]))\n",
    "print(\"Max {:<4}\".format(''), \"{:5.2f}\".format(np.max((marks), axis=0)[1]), \"{:5.2f}\".format(np.max((marks), axis=0)[2]),\"{:5.2f}\".format(np.max((marks), axis=0)[3]))\n",
    "print(\"Average {:<0}\".format(''), \"{:5.2f}\".format(np.mean((marks), axis=0)[1]),\"{:5.2f}\".format(np.mean((marks), axis=0)[2]),\"{:5.2f}\".format(np.mean((marks), axis=0)[3]))\n",
    "print(\"Std {:<4}\".format(''),\"{:5.2f}\".format(np.std((marks), axis=0)[1]),\"{:5.2f}\".format(np.std((marks), axis=0)[2]),\"{:5.2f}\".format(np.std((marks), axis=0)[3]))"
   ]
  },
  {
   "cell_type": "markdown",
   "metadata": {},
   "source": [
    "<h3>Question 7</h3>"
   ]
  },
  {
   "cell_type": "code",
   "execution_count": 8,
   "metadata": {},
   "outputs": [
    {
     "name": "stdout",
     "output_type": "stream",
     "text": [
      "[[   0    1    2    3    4    5    6    7    8    9   10   11   12]\n",
      " [1980  300  200  100   50    0   10   75   60   90  150  325  400]\n",
      " [1981  290  220  110   40    5   15   80   90   85  160  290  350]\n",
      " [1982  320  230   90   25   10    5   90   80   95  155  300  340]\n",
      " [1983  280  190  105   15   20   10   85   95  100  140  310  320]]\n",
      "350\n",
      "5\n",
      "144.58333333333334\n",
      "20\n",
      "[[  0  10  75  60  90 150]\n",
      " [  5  15  80  90  85 160]\n",
      " [ 10   5  90  80  95 155]]\n",
      "400\n",
      "0\n",
      "[320 310 280 190 140 105 100  95  85  20  15  10]\n"
     ]
    }
   ],
   "source": [
    "# (a)\n",
    "arr1 = np.array([[0,1,2,3,4,5,6,7,8,9,10,11,12],[1980,300,200,100,50,0,10,75,60,90,150,325,400],[1981,290,220,110,40,5,15,80,90,85,160,290,350],[1982,320,230,90,25,10,5,90,80,95,155,300,340],[1983,280,190,105,15,20,10,85,95,100,140,310,320]])\n",
    "print(arr1)\n",
    "print(np.max(arr1[2,1:]))\n",
    "print(np.min(arr1[2,1:]))\n",
    "print(np.mean(arr1[2,1:]))\n",
    "\n",
    "# (b)\n",
    "print(np.amax(arr1[1:,5])) #returns the maximum value for month May\n",
    "\n",
    "# (c)\n",
    "print(arr1[1:4,5:11])\n",
    "\n",
    "# (d)\n",
    "print(np.max(arr1[1:,1:]))\n",
    "print(np.min(arr1[1:,1:]))\n",
    "\n",
    "# (e)\n",
    "arr1[4,1:].sort()\n",
    "arr2 = arr1[4,1:]\n",
    "print(arr2[::-1])"
   ]
  },
  {
   "cell_type": "code",
   "execution_count": null,
   "metadata": {},
   "outputs": [],
   "source": []
  }
 ],
 "metadata": {
  "kernelspec": {
   "display_name": "Python 3",
   "language": "python",
   "name": "python3"
  },
  "language_info": {
   "codemirror_mode": {
    "name": "ipython",
    "version": 3
   },
   "file_extension": ".py",
   "mimetype": "text/x-python",
   "name": "python",
   "nbconvert_exporter": "python",
   "pygments_lexer": "ipython3",
   "version": "3.7.0"
  }
 },
 "nbformat": 4,
 "nbformat_minor": 2
}
